{
 "cells": [
  {
   "cell_type": "raw",
   "id": "4c41b574",
   "metadata": {},
   "source": [
    "The process of changing a piece of data in series of well-specified and reversible steps to a completely different one with intent to make it more useful."
   ]
  },
  {
   "cell_type": "code",
   "execution_count": 2,
   "id": "20e1aa96",
   "metadata": {
    "ExecuteTime": {
     "end_time": "2021-08-10T09:23:46.934239Z",
     "start_time": "2021-08-10T09:23:41.732178Z"
    }
   },
   "outputs": [],
   "source": [
    "import pandas as pd;\n",
    "import numpy as np;\n",
    "\n",
    "import matplotlib.pyplot as plt;\n",
    "import seaborn as sns;\n",
    "\n",
    "from sklearn import datasets;\n"
   ]
  },
  {
   "cell_type": "markdown",
   "id": "f1231b10",
   "metadata": {},
   "source": [
    "# Data loading and preprocessing with pandas."
   ]
  },
  {
   "cell_type": "raw",
   "id": "cebd1470",
   "metadata": {},
   "source": [
    "collecting data from various sources:\n",
    "    - DataBase\n",
    "    - Web Scraping\n",
    "    - API urllib2 pd.read_csv()"
   ]
  },
  {
   "cell_type": "code",
   "execution_count": 3,
   "id": "a96ce23f",
   "metadata": {
    "ExecuteTime": {
     "end_time": "2021-08-10T09:23:46.964862Z",
     "start_time": "2021-08-10T09:23:46.934239Z"
    }
   },
   "outputs": [],
   "source": [
    "iris = datasets.load_iris();\n",
    "iris_df = pd.DataFrame(iris.data, columns=iris.feature_names);\n",
    "iris_df['target'] = iris.target;\n",
    "iris_df['target'] = iris_df['target'].apply(lambda x: iris.target_names[x]);"
   ]
  },
  {
   "cell_type": "code",
   "execution_count": 4,
   "id": "cb5fbfbe",
   "metadata": {
    "ExecuteTime": {
     "end_time": "2021-08-10T09:23:46.996842Z",
     "start_time": "2021-08-10T09:23:46.966841Z"
    }
   },
   "outputs": [
    {
     "data": {
      "text/html": [
       "<div>\n",
       "<style scoped>\n",
       "    .dataframe tbody tr th:only-of-type {\n",
       "        vertical-align: middle;\n",
       "    }\n",
       "\n",
       "    .dataframe tbody tr th {\n",
       "        vertical-align: top;\n",
       "    }\n",
       "\n",
       "    .dataframe thead th {\n",
       "        text-align: right;\n",
       "    }\n",
       "</style>\n",
       "<table border=\"1\" class=\"dataframe\">\n",
       "  <thead>\n",
       "    <tr style=\"text-align: right;\">\n",
       "      <th></th>\n",
       "      <th>sepal length (cm)</th>\n",
       "      <th>sepal width (cm)</th>\n",
       "      <th>petal length (cm)</th>\n",
       "      <th>petal width (cm)</th>\n",
       "      <th>target</th>\n",
       "    </tr>\n",
       "  </thead>\n",
       "  <tbody>\n",
       "    <tr>\n",
       "      <th>145</th>\n",
       "      <td>6.7</td>\n",
       "      <td>3.0</td>\n",
       "      <td>5.2</td>\n",
       "      <td>2.3</td>\n",
       "      <td>virginica</td>\n",
       "    </tr>\n",
       "    <tr>\n",
       "      <th>146</th>\n",
       "      <td>6.3</td>\n",
       "      <td>2.5</td>\n",
       "      <td>5.0</td>\n",
       "      <td>1.9</td>\n",
       "      <td>virginica</td>\n",
       "    </tr>\n",
       "    <tr>\n",
       "      <th>147</th>\n",
       "      <td>6.5</td>\n",
       "      <td>3.0</td>\n",
       "      <td>5.2</td>\n",
       "      <td>2.0</td>\n",
       "      <td>virginica</td>\n",
       "    </tr>\n",
       "    <tr>\n",
       "      <th>148</th>\n",
       "      <td>6.2</td>\n",
       "      <td>3.4</td>\n",
       "      <td>5.4</td>\n",
       "      <td>2.3</td>\n",
       "      <td>virginica</td>\n",
       "    </tr>\n",
       "    <tr>\n",
       "      <th>149</th>\n",
       "      <td>5.9</td>\n",
       "      <td>3.0</td>\n",
       "      <td>5.1</td>\n",
       "      <td>1.8</td>\n",
       "      <td>virginica</td>\n",
       "    </tr>\n",
       "  </tbody>\n",
       "</table>\n",
       "</div>"
      ],
      "text/plain": [
       "     sepal length (cm)  sepal width (cm)  petal length (cm)  petal width (cm)  \\\n",
       "145                6.7               3.0                5.2               2.3   \n",
       "146                6.3               2.5                5.0               1.9   \n",
       "147                6.5               3.0                5.2               2.0   \n",
       "148                6.2               3.4                5.4               2.3   \n",
       "149                5.9               3.0                5.1               1.8   \n",
       "\n",
       "        target  \n",
       "145  virginica  \n",
       "146  virginica  \n",
       "147  virginica  \n",
       "148  virginica  \n",
       "149  virginica  "
      ]
     },
     "execution_count": 4,
     "metadata": {},
     "output_type": "execute_result"
    }
   ],
   "source": [
    "iris_df.tail()"
   ]
  },
  {
   "cell_type": "markdown",
   "id": "7605fce7",
   "metadata": {},
   "source": [
    "# Dealing with problematic data"
   ]
  },
  {
   "cell_type": "markdown",
   "id": "af441aa4",
   "metadata": {
    "ExecuteTime": {
     "end_time": "2021-08-10T09:26:17.881127Z",
     "start_time": "2021-08-10T09:26:17.874128Z"
    }
   },
   "source": [
    "# Working with categorical and textual data"
   ]
  },
  {
   "cell_type": "raw",
   "id": "09557b84",
   "metadata": {},
   "source": [
    "Types of categorical data:\n",
    "    - Ordinal Data.\n",
    "    - Nominal Data.\n",
    "Use dummy categories for nominal data.\n"
   ]
  },
  {
   "cell_type": "code",
   "execution_count": 46,
   "id": "a61d1950",
   "metadata": {
    "ExecuteTime": {
     "end_time": "2021-08-10T10:36:29.166137Z",
     "start_time": "2021-08-10T10:36:29.151139Z"
    }
   },
   "outputs": [],
   "source": [
    "weather = pd.DataFrame({'type': np.random.randint(0, 5, 1000)});\n",
    "categories = ['sunny', 'cloudy', 'snowy', 'rainy', 'foggy'];\n",
    "weather['type'] = weather['type'].apply(lambda x: categories[x]);\n"
   ]
  },
  {
   "cell_type": "code",
   "execution_count": 49,
   "id": "7aeafe96",
   "metadata": {
    "ExecuteTime": {
     "end_time": "2021-08-10T10:37:20.611421Z",
     "start_time": "2021-08-10T10:37:20.431765Z"
    },
    "scrolled": true
   },
   "outputs": [
    {
     "data": {
      "image/png": "[encoded data removed]",
      "text/plain": [
       "<Figure size 432x288 with 1 Axes>"
      ]
     },
     "metadata": {},
     "output_type": "display_data"
    }
   ],
   "source": [
    "weather.value_counts().plot(kind=\"pie\", shadow=True, explode=[0, 0, 0, 0, 0], autopct=\"%.2f%%\");"
   ]
  },
  {
   "cell_type": "raw",
   "id": "023126a4",
   "metadata": {},
   "source": [
    "# Conclusion: \\nFrom the above analysis, individuals between the age range of 30-55 years having free housing often take the most credit from this institution."
   ]
  },
  {
   "cell_type": "code",
   "execution_count": 41,
   "id": "7b98f07c",
   "metadata": {
    "ExecuteTime": {
     "end_time": "2021-08-10T10:34:16.923227Z",
     "start_time": "2021-08-10T10:34:16.911228Z"
    }
   },
   "outputs": [],
   "source": [
    "from sklearn.preprocessing import OneHotEncoder;\n",
    "from sklearn.preprocessing import LabelEncoder;"
   ]
  },
  {
   "cell_type": "code",
   "execution_count": 50,
   "id": "87dd4144",
   "metadata": {
    "ExecuteTime": {
     "end_time": "2021-08-10T10:39:19.162985Z",
     "start_time": "2021-08-10T10:39:19.143987Z"
    }
   },
   "outputs": [],
   "source": [
    "le = LabelEncoder();\n",
    "ohe = OneHotEncoder();\n",
    "\n",
    "categories = ['sunny', 'cloudy', 'snowy', 'rainy', 'foggy'];"
   ]
  },
  {
   "cell_type": "code",
   "execution_count": 59,
   "id": "368894fd",
   "metadata": {
    "ExecuteTime": {
     "end_time": "2021-08-10T12:23:49.496296Z",
     "start_time": "2021-08-10T12:23:49.482996Z"
    },
    "scrolled": false
   },
   "outputs": [],
   "source": [
    "# fit_levels = le.fit_transfrom(categories);\n",
    "\n",
    "ohe.fit_transform(weather);"
   ]
  },
  {
   "cell_type": "code",
   "execution_count": 70,
   "id": "ae5f6b45",
   "metadata": {
    "ExecuteTime": {
     "end_time": "2021-08-10T12:29:08.276455Z",
     "start_time": "2021-08-10T12:29:08.259439Z"
    }
   },
   "outputs": [
    {
     "data": {
      "text/plain": [
       "array([[0., 0., 0., 0., 1.],\n",
       "       [0., 0., 0., 0., 1.],\n",
       "       [0., 1., 0., 0., 0.],\n",
       "       ...,\n",
       "       [1., 0., 0., 0., 0.],\n",
       "       [0., 0., 0., 1., 0.],\n",
       "       [0., 1., 0., 0., 0.]])"
      ]
     },
     "execution_count": 70,
     "metadata": {},
     "output_type": "execute_result"
    }
   ],
   "source": [
    "ma = ohe.transform(weather);\n",
    "ma.toarray()"
   ]
  },
  {
   "cell_type": "markdown",
   "id": "347d63be",
   "metadata": {},
   "source": [
    "# A Special type of Data- Text\n"
   ]
  },
  {
   "cell_type": "code",
   "execution_count": null,
   "id": "fa279471",
   "metadata": {},
   "outputs": [],
   "source": []
  }
 ],
 "metadata": {
  "kernelspec": {
   "display_name": "Python 3",
   "language": "python",
   "name": "python3"
  },
  "language_info": {
   "codemirror_mode": {
    "name": "ipython",
    "version": 3
   },
   "file_extension": ".py",
   "mimetype": "text/x-python",
   "name": "python",
   "nbconvert_exporter": "python",
   "pygments_lexer": "ipython3",
   "version": "3.8.8"
  },
  "toc": {
   "base_numbering": 1,
   "nav_menu": {},
   "number_sections": true,
   "sideBar": true,
   "skip_h1_title": false,
   "title_cell": "Table of Contents",
   "title_sidebar": "Contents",
   "toc_cell": false,
   "toc_position": {},
   "toc_section_display": true,
   "toc_window_display": false
  }
 },
 "nbformat": 4,
 "nbformat_minor": 5
}
