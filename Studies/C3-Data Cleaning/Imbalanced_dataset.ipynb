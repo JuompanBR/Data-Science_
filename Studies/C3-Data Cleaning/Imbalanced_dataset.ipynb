{
 "cells": [
  {
   "cell_type": "markdown",
   "id": "e4c66f26",
   "metadata": {},
   "source": [
    "# Working with imbalanced dataSets: "
   ]
  },
  {
   "cell_type": "code",
   "execution_count": 1,
   "id": "f7a60095",
   "metadata": {
    "ExecuteTime": {
     "end_time": "2021-09-11T08:56:59.803828Z",
     "start_time": "2021-09-11T08:56:58.514285Z"
    }
   },
   "outputs": [],
   "source": [
    "import numpy as np;\n",
    "import pandas as pd;\n"
   ]
  },
  {
   "cell_type": "code",
   "execution_count": 2,
   "id": "b9792052",
   "metadata": {
    "ExecuteTime": {
     "end_time": "2021-09-11T08:59:13.304661Z",
     "start_time": "2021-09-11T08:59:12.668656Z"
    }
   },
   "outputs": [
    {
     "data": {
      "text/plain": [
       "(846, 2005)"
      ]
     },
     "execution_count": 2,
     "metadata": {},
     "output_type": "execute_result"
    }
   ],
   "source": [
    "emotions_df = pd.read_csv(\"coords.csv\", error_bad_lines=False, warn_bad_lines=True);\n",
    "emotions_df.shape"
   ]
  },
  {
   "cell_type": "code",
   "execution_count": 5,
   "id": "b118a57a",
   "metadata": {
    "ExecuteTime": {
     "end_time": "2021-09-11T09:03:54.996559Z",
     "start_time": "2021-09-11T09:03:54.946837Z"
    }
   },
   "outputs": [
    {
     "data": {
      "text/plain": [
       "(486, 2005)"
      ]
     },
     "execution_count": 5,
     "metadata": {},
     "output_type": "execute_result"
    }
   ],
   "source": [
    "# Dropping all na rows with at least one na\n",
    "pd.options.mode.use_inf_as_na = True; # Consider \"\" and Numpy.inf_ as NAN values\n",
    "emotions_df = emotions_df.dropna(axis=0, thresh=emotions_df.shape[1] - 1).copy(); # Keep dataset with at least one non-Na values;\n",
    "\n",
    "emotions_df.shape"
   ]
  },
  {
   "cell_type": "code",
   "execution_count": 24,
   "id": "e1064c8c",
   "metadata": {
    "ExecuteTime": {
     "end_time": "2021-09-11T09:14:12.848509Z",
     "start_time": "2021-09-11T09:14:12.839513Z"
    }
   },
   "outputs": [
    {
     "name": "stdout",
     "output_type": "stream",
     "text": [
      "There are 501 points\n"
     ]
    }
   ],
   "source": [
    "number_of_points = emotions_df.columns.to_numpy().size / 4;\n",
    "print(\"There are {:.0f} points\".format(number_of_points))"
   ]
  },
  {
   "cell_type": "code",
   "execution_count": 31,
   "id": "771a41ca",
   "metadata": {
    "ExecuteTime": {
     "end_time": "2021-09-11T09:17:41.140085Z",
     "start_time": "2021-09-11T09:17:40.995514Z"
    }
   },
   "outputs": [
    {
     "data": {
      "text/plain": [
       "<AxesSubplot:ylabel='class'>"
      ]
     },
     "execution_count": 31,
     "metadata": {},
     "output_type": "execute_result"
    },
    {
     "data": {
      "image/png": "[encoded data removed]",
      "text/plain": [
       "<Figure size 432x288 with 1 Axes>"
      ]
     },
     "metadata": {},
     "output_type": "display_data"
    }
   ],
   "source": [
    "# Comparing the number of observations per class\n",
    "emotions_df.iloc[:, 0].value_counts().plot(kind=\"pie\", autopct=\"%2.2f%%\");"
   ]
  },
  {
   "cell_type": "markdown",
   "id": "3a387c75",
   "metadata": {},
   "source": [
    "#### This clearly shows that any machine model on this dataset would be highly  Biased.\n"
   ]
  },
  {
   "cell_type": "markdown",
   "id": "93941665",
   "metadata": {},
   "source": [
    "# Techniques for working with imbalanced dataSets:"
   ]
  },
  {
   "cell_type": "code",
   "execution_count": 32,
   "id": "791a8bd3",
   "metadata": {
    "ExecuteTime": {
     "end_time": "2021-09-11T09:27:28.929613Z",
     "start_time": "2021-09-11T09:27:28.924663Z"
    }
   },
   "outputs": [],
   "source": [
    "# Random Oversampling and Undersampling.\n",
    "# tomek links for Undersampling, Oversmapling using SMOTE( Synthetic Minority OverSampling Technique)\n",
    "# Ajusting the class Weights"
   ]
  },
  {
   "cell_type": "code",
   "execution_count": null,
   "id": "8b236adf",
   "metadata": {},
   "outputs": [],
   "source": []
  }
 ],
 "metadata": {
  "kernelspec": {
   "display_name": "Python 3",
   "language": "python",
   "name": "python3"
  },
  "language_info": {
   "codemirror_mode": {
    "name": "ipython",
    "version": 3
   },
   "file_extension": ".py",
   "mimetype": "text/x-python",
   "name": "python",
   "nbconvert_exporter": "python",
   "pygments_lexer": "ipython3",
   "version": "3.8.8"
  },
  "toc": {
   "base_numbering": 1,
   "nav_menu": {},
   "number_sections": true,
   "sideBar": true,
   "skip_h1_title": false,
   "title_cell": "Table of Contents",
   "title_sidebar": "Contents",
   "toc_cell": false,
   "toc_position": {},
   "toc_section_display": true,
   "toc_window_display": true
  },
  "varInspector": {
   "cols": {
    "lenName": 16,
    "lenType": 16,
    "lenVar": 40
   },
   "kernels_config": {
    "python": {
     "delete_cmd_postfix": "",
     "delete_cmd_prefix": "del ",
     "library": "var_list.py",
     "varRefreshCmd": "print(var_dic_list())"
    },
    "r": {
     "delete_cmd_postfix": ") ",
     "delete_cmd_prefix": "rm(",
     "library": "var_list.r",
     "varRefreshCmd": "cat(var_dic_list()) "
    }
   },
   "types_to_exclude": [
    "module",
    "function",
    "builtin_function_or_method",
    "instance",
    "_Feature"
   ],
   "window_display": false
  }
 },
 "nbformat": 4,
 "nbformat_minor": 5
}
