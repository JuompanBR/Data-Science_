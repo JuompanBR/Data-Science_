{
 "cells": [
  {
   "cell_type": "code",
   "execution_count": 1,
   "id": "7bf24a70",
   "metadata": {},
   "outputs": [],
   "source": [
    "import numpy as np;\n",
    "import pandas as pd;\n",
    "\n",
    "import matplotlib.pyplot as plt;\n",
    "import seaborn as sns;\n",
    "\n",
    "from sklearn.datasets import load_wine;"
   ]
  },
  {
   "cell_type": "code",
   "execution_count": 2,
   "id": "4b45d506",
   "metadata": {},
   "outputs": [],
   "source": [
    "data = load_wine();\n",
    "#print(data['DESCR'])"
   ]
  },
  {
   "cell_type": "code",
   "execution_count": 3,
   "id": "02dccb6d",
   "metadata": {},
   "outputs": [],
   "source": [
    "wine_df = pd.DataFrame(data['data'], columns=data['feature_names']);\n",
    "wine_df['target'] = data['target'];\n",
    "wine_df['target_names'] = np.array([data['target_names'][index] for index in wine_df['target']]);"
   ]
  },
  {
   "cell_type": "code",
   "execution_count": 4,
   "id": "3322f37c",
   "metadata": {},
   "outputs": [
    {
     "data": {
      "text/html": [
       "<div>\n",
       "<style scoped>\n",
       "    .dataframe tbody tr th:only-of-type {\n",
       "        vertical-align: middle;\n",
       "    }\n",
       "\n",
       "    .dataframe tbody tr th {\n",
       "        vertical-align: top;\n",
       "    }\n",
       "\n",
       "    .dataframe thead th {\n",
       "        text-align: right;\n",
       "    }\n",
       "</style>\n",
       "<table border=\"1\" class=\"dataframe\">\n",
       "  <thead>\n",
       "    <tr style=\"text-align: right;\">\n",
       "      <th></th>\n",
       "      <th>alcohol</th>\n",
       "      <th>malic_acid</th>\n",
       "      <th>ash</th>\n",
       "      <th>alcalinity_of_ash</th>\n",
       "      <th>magnesium</th>\n",
       "      <th>total_phenols</th>\n",
       "      <th>flavanoids</th>\n",
       "      <th>nonflavanoid_phenols</th>\n",
       "      <th>proanthocyanins</th>\n",
       "      <th>color_intensity</th>\n",
       "      <th>hue</th>\n",
       "      <th>od280/od315_of_diluted_wines</th>\n",
       "      <th>proline</th>\n",
       "      <th>target</th>\n",
       "      <th>target_names</th>\n",
       "    </tr>\n",
       "  </thead>\n",
       "  <tbody>\n",
       "    <tr>\n",
       "      <th>0</th>\n",
       "      <td>14.23</td>\n",
       "      <td>1.71</td>\n",
       "      <td>2.43</td>\n",
       "      <td>15.6</td>\n",
       "      <td>127.0</td>\n",
       "      <td>2.80</td>\n",
       "      <td>3.06</td>\n",
       "      <td>0.28</td>\n",
       "      <td>2.29</td>\n",
       "      <td>5.64</td>\n",
       "      <td>1.04</td>\n",
       "      <td>3.92</td>\n",
       "      <td>1065.0</td>\n",
       "      <td>0</td>\n",
       "      <td>class_0</td>\n",
       "    </tr>\n",
       "    <tr>\n",
       "      <th>1</th>\n",
       "      <td>13.20</td>\n",
       "      <td>1.78</td>\n",
       "      <td>2.14</td>\n",
       "      <td>11.2</td>\n",
       "      <td>100.0</td>\n",
       "      <td>2.65</td>\n",
       "      <td>2.76</td>\n",
       "      <td>0.26</td>\n",
       "      <td>1.28</td>\n",
       "      <td>4.38</td>\n",
       "      <td>1.05</td>\n",
       "      <td>3.40</td>\n",
       "      <td>1050.0</td>\n",
       "      <td>0</td>\n",
       "      <td>class_0</td>\n",
       "    </tr>\n",
       "    <tr>\n",
       "      <th>2</th>\n",
       "      <td>13.16</td>\n",
       "      <td>2.36</td>\n",
       "      <td>2.67</td>\n",
       "      <td>18.6</td>\n",
       "      <td>101.0</td>\n",
       "      <td>2.80</td>\n",
       "      <td>3.24</td>\n",
       "      <td>0.30</td>\n",
       "      <td>2.81</td>\n",
       "      <td>5.68</td>\n",
       "      <td>1.03</td>\n",
       "      <td>3.17</td>\n",
       "      <td>1185.0</td>\n",
       "      <td>0</td>\n",
       "      <td>class_0</td>\n",
       "    </tr>\n",
       "    <tr>\n",
       "      <th>3</th>\n",
       "      <td>14.37</td>\n",
       "      <td>1.95</td>\n",
       "      <td>2.50</td>\n",
       "      <td>16.8</td>\n",
       "      <td>113.0</td>\n",
       "      <td>3.85</td>\n",
       "      <td>3.49</td>\n",
       "      <td>0.24</td>\n",
       "      <td>2.18</td>\n",
       "      <td>7.80</td>\n",
       "      <td>0.86</td>\n",
       "      <td>3.45</td>\n",
       "      <td>1480.0</td>\n",
       "      <td>0</td>\n",
       "      <td>class_0</td>\n",
       "    </tr>\n",
       "    <tr>\n",
       "      <th>4</th>\n",
       "      <td>13.24</td>\n",
       "      <td>2.59</td>\n",
       "      <td>2.87</td>\n",
       "      <td>21.0</td>\n",
       "      <td>118.0</td>\n",
       "      <td>2.80</td>\n",
       "      <td>2.69</td>\n",
       "      <td>0.39</td>\n",
       "      <td>1.82</td>\n",
       "      <td>4.32</td>\n",
       "      <td>1.04</td>\n",
       "      <td>2.93</td>\n",
       "      <td>735.0</td>\n",
       "      <td>0</td>\n",
       "      <td>class_0</td>\n",
       "    </tr>\n",
       "    <tr>\n",
       "      <th>...</th>\n",
       "      <td>...</td>\n",
       "      <td>...</td>\n",
       "      <td>...</td>\n",
       "      <td>...</td>\n",
       "      <td>...</td>\n",
       "      <td>...</td>\n",
       "      <td>...</td>\n",
       "      <td>...</td>\n",
       "      <td>...</td>\n",
       "      <td>...</td>\n",
       "      <td>...</td>\n",
       "      <td>...</td>\n",
       "      <td>...</td>\n",
       "      <td>...</td>\n",
       "      <td>...</td>\n",
       "    </tr>\n",
       "    <tr>\n",
       "      <th>173</th>\n",
       "      <td>13.71</td>\n",
       "      <td>5.65</td>\n",
       "      <td>2.45</td>\n",
       "      <td>20.5</td>\n",
       "      <td>95.0</td>\n",
       "      <td>1.68</td>\n",
       "      <td>0.61</td>\n",
       "      <td>0.52</td>\n",
       "      <td>1.06</td>\n",
       "      <td>7.70</td>\n",
       "      <td>0.64</td>\n",
       "      <td>1.74</td>\n",
       "      <td>740.0</td>\n",
       "      <td>2</td>\n",
       "      <td>class_2</td>\n",
       "    </tr>\n",
       "    <tr>\n",
       "      <th>174</th>\n",
       "      <td>13.40</td>\n",
       "      <td>3.91</td>\n",
       "      <td>2.48</td>\n",
       "      <td>23.0</td>\n",
       "      <td>102.0</td>\n",
       "      <td>1.80</td>\n",
       "      <td>0.75</td>\n",
       "      <td>0.43</td>\n",
       "      <td>1.41</td>\n",
       "      <td>7.30</td>\n",
       "      <td>0.70</td>\n",
       "      <td>1.56</td>\n",
       "      <td>750.0</td>\n",
       "      <td>2</td>\n",
       "      <td>class_2</td>\n",
       "    </tr>\n",
       "    <tr>\n",
       "      <th>175</th>\n",
       "      <td>13.27</td>\n",
       "      <td>4.28</td>\n",
       "      <td>2.26</td>\n",
       "      <td>20.0</td>\n",
       "      <td>120.0</td>\n",
       "      <td>1.59</td>\n",
       "      <td>0.69</td>\n",
       "      <td>0.43</td>\n",
       "      <td>1.35</td>\n",
       "      <td>10.20</td>\n",
       "      <td>0.59</td>\n",
       "      <td>1.56</td>\n",
       "      <td>835.0</td>\n",
       "      <td>2</td>\n",
       "      <td>class_2</td>\n",
       "    </tr>\n",
       "    <tr>\n",
       "      <th>176</th>\n",
       "      <td>13.17</td>\n",
       "      <td>2.59</td>\n",
       "      <td>2.37</td>\n",
       "      <td>20.0</td>\n",
       "      <td>120.0</td>\n",
       "      <td>1.65</td>\n",
       "      <td>0.68</td>\n",
       "      <td>0.53</td>\n",
       "      <td>1.46</td>\n",
       "      <td>9.30</td>\n",
       "      <td>0.60</td>\n",
       "      <td>1.62</td>\n",
       "      <td>840.0</td>\n",
       "      <td>2</td>\n",
       "      <td>class_2</td>\n",
       "    </tr>\n",
       "    <tr>\n",
       "      <th>177</th>\n",
       "      <td>14.13</td>\n",
       "      <td>4.10</td>\n",
       "      <td>2.74</td>\n",
       "      <td>24.5</td>\n",
       "      <td>96.0</td>\n",
       "      <td>2.05</td>\n",
       "      <td>0.76</td>\n",
       "      <td>0.56</td>\n",
       "      <td>1.35</td>\n",
       "      <td>9.20</td>\n",
       "      <td>0.61</td>\n",
       "      <td>1.60</td>\n",
       "      <td>560.0</td>\n",
       "      <td>2</td>\n",
       "      <td>class_2</td>\n",
       "    </tr>\n",
       "  </tbody>\n",
       "</table>\n",
       "<p>178 rows × 15 columns</p>\n",
       "</div>"
      ],
      "text/plain": [
       "     alcohol  malic_acid   ash  alcalinity_of_ash  magnesium  total_phenols  \\\n",
       "0      14.23        1.71  2.43               15.6      127.0           2.80   \n",
       "1      13.20        1.78  2.14               11.2      100.0           2.65   \n",
       "2      13.16        2.36  2.67               18.6      101.0           2.80   \n",
       "3      14.37        1.95  2.50               16.8      113.0           3.85   \n",
       "4      13.24        2.59  2.87               21.0      118.0           2.80   \n",
       "..       ...         ...   ...                ...        ...            ...   \n",
       "173    13.71        5.65  2.45               20.5       95.0           1.68   \n",
       "174    13.40        3.91  2.48               23.0      102.0           1.80   \n",
       "175    13.27        4.28  2.26               20.0      120.0           1.59   \n",
       "176    13.17        2.59  2.37               20.0      120.0           1.65   \n",
       "177    14.13        4.10  2.74               24.5       96.0           2.05   \n",
       "\n",
       "     flavanoids  nonflavanoid_phenols  proanthocyanins  color_intensity   hue  \\\n",
       "0          3.06                  0.28             2.29             5.64  1.04   \n",
       "1          2.76                  0.26             1.28             4.38  1.05   \n",
       "2          3.24                  0.30             2.81             5.68  1.03   \n",
       "3          3.49                  0.24             2.18             7.80  0.86   \n",
       "4          2.69                  0.39             1.82             4.32  1.04   \n",
       "..          ...                   ...              ...              ...   ...   \n",
       "173        0.61                  0.52             1.06             7.70  0.64   \n",
       "174        0.75                  0.43             1.41             7.30  0.70   \n",
       "175        0.69                  0.43             1.35            10.20  0.59   \n",
       "176        0.68                  0.53             1.46             9.30  0.60   \n",
       "177        0.76                  0.56             1.35             9.20  0.61   \n",
       "\n",
       "     od280/od315_of_diluted_wines  proline  target target_names  \n",
       "0                            3.92   1065.0       0      class_0  \n",
       "1                            3.40   1050.0       0      class_0  \n",
       "2                            3.17   1185.0       0      class_0  \n",
       "3                            3.45   1480.0       0      class_0  \n",
       "4                            2.93    735.0       0      class_0  \n",
       "..                            ...      ...     ...          ...  \n",
       "173                          1.74    740.0       2      class_2  \n",
       "174                          1.56    750.0       2      class_2  \n",
       "175                          1.56    835.0       2      class_2  \n",
       "176                          1.62    840.0       2      class_2  \n",
       "177                          1.60    560.0       2      class_2  \n",
       "\n",
       "[178 rows x 15 columns]"
      ]
     },
     "execution_count": 4,
     "metadata": {},
     "output_type": "execute_result"
    }
   ],
   "source": [
    "wine_df"
   ]
  },
  {
   "cell_type": "markdown",
   "id": "0aa5bf68",
   "metadata": {},
   "source": [
    "# Univariate Data Analysis."
   ]
  },
  {
   "cell_type": "code",
   "execution_count": 5,
   "id": "1d857a87",
   "metadata": {},
   "outputs": [],
   "source": [
    "# Frequency table\n",
    "# Bar Chart\n",
    "# Histogram\n",
    "# Pie Chart\n",
    "# Box Plot\n",
    "# Measure of Central Tendency (Mean, Median, Mode)\n",
    "# Measure of dispersion (Standard Deviation, Variance)"
   ]
  },
  {
   "cell_type": "markdown",
   "id": "e4a78826",
   "metadata": {},
   "source": [
    "## 1) Frequency Table."
   ]
  },
  {
   "cell_type": "code",
   "execution_count": 6,
   "id": "44a115fe",
   "metadata": {},
   "outputs": [
    {
     "name": "stdout",
     "output_type": "stream",
     "text": [
      "Frequency Table Example: \n",
      "class_1    71\n",
      "class_0    59\n",
      "class_2    48\n",
      "Name: target_names, dtype: int64\n",
      "\n",
      "The data is unbalanced. In balanced data scenario, the variability of the estimates decreases.\n",
      " Variability is the extend to which data points in a statistical distribution diverge from the expected value or the mean, and also the extend to which these points diverge from one another.\n"
     ]
    }
   ],
   "source": [
    "# Frequency table:\n",
    "   # It shows the number of times each value in the table occurs.\n",
    "# Understands whether a particular dataset is balanced or not\n",
    "# \"https://www.sciencedirect.com/science/article/abs/pii/S1470160X17306659#:~:text=Unbalanced%20data%20affects%20on%20the%20bias%20of%20the,entire%20population%20%28First%20row%20panel%20of%20Fig.%201%29.\"\n",
    "print(\"Frequency Table Example: \");\n",
    "wine_df['target_names'].value_counts();\n",
    "wine_df['target'].value_counts();\n",
    "frequency_table = wine_df['target_names'].value_counts();\n",
    "print(frequency_table);\n",
    "print(\"\\nThe data is unbalanced. In balanced data scenario, the variability of the estimates decreases.\\n Variability is the extend to which data points in a statistical distribution diverge from the expected value or the mean, and also the extend to which these points diverge from one another.\");"
   ]
  },
  {
   "cell_type": "markdown",
   "id": "8f40457b",
   "metadata": {},
   "source": [
    "## 2) Bar Plot."
   ]
  },
  {
   "cell_type": "code",
   "execution_count": 7,
   "id": "9d88d888",
   "metadata": {},
   "outputs": [
    {
     "name": "stdout",
     "output_type": "stream",
     "text": [
      "Bar Chart Example: \n"
     ]
    },
    {
     "data": {
      "image/png": "[encoded data removed]",
      "text/plain": [
       "<Figure size 1440x1440 with 2 Axes>"
      ]
     },
     "metadata": {
      "needs_background": "light"
     },
     "output_type": "display_data"
    }
   ],
   "source": [
    "# Bar Chart/Plot:\n",
    "   #  It shows comparism amongst discrete caterogies.\n",
    "# What can we get ?\n",
    "    # Quantitative differences between categorical variables according to a feature.\n",
    "plt.figure(figsize=(20, 20));\n",
    "plt.subplot(3, 2, 1);\n",
    "sns.barplot(x=frequency_table.index, y=frequency_table.values, orient='v');\n",
    "plt.title(\"Occurances of classes\", fontdict={'fontsize': 30}, pad=10);\n",
    "plt.ylabel(\"frequency\", fontdict={'fontsize': 20});\n",
    "print(\"Bar Chart Example: \");\n",
    "\n",
    "# Comparing malic acid concentration for the three classes\n",
    "plt.subplot(3, 2, 2);\n",
    "sns.barplot(x=wine_df['malic_acid'], y=wine_df['target_names'], orient='h');\n",
    "plt.title(\"Malic acid Content\", fontdict={'fontsize': 30}, pad=10);\n",
    "plt.ylabel(\"wine types\", fontdict={'fontsize': 20});\n",
    "plt.xlabel(\"malic acid\", fontdict={'fontsize': 20});"
   ]
  },
  {
   "cell_type": "code",
   "execution_count": 8,
   "id": "dd4dd4ed",
   "metadata": {},
   "outputs": [
    {
     "name": "stdout",
     "output_type": "stream",
     "text": [
      "Descriptions of Malic acid for Class_0 wine.\n"
     ]
    },
    {
     "data": {
      "text/plain": [
       "count    59.000000\n",
       "mean      2.010678\n",
       "std       0.688549\n",
       "min       1.350000\n",
       "25%       1.665000\n",
       "50%       1.770000\n",
       "75%       1.935000\n",
       "max       4.040000\n",
       "Name: malic_acid, dtype: float64"
      ]
     },
     "execution_count": 8,
     "metadata": {},
     "output_type": "execute_result"
    }
   ],
   "source": [
    "print(\"Descriptions of Malic acid for Class_0 wine.\");\n",
    "wine_df.loc[wine_df['target_names'] == 'class_0']['malic_acid'].describe()"
   ]
  },
  {
   "cell_type": "markdown",
   "id": "d089f8fa",
   "metadata": {},
   "source": [
    "## 3) Histogram."
   ]
  },
  {
   "cell_type": "code",
   "execution_count": 9,
   "id": "8dd2e60d",
   "metadata": {},
   "outputs": [
    {
     "data": {
      "image/png": "[encoded data removed]",
      "text/plain": [
       "<Figure size 1152x504 with 1 Axes>"
      ]
     },
     "metadata": {
      "needs_background": "light"
     },
     "output_type": "display_data"
    }
   ],
   "source": [
    "# Histogram\n",
    "   # used to show the distribution of values of a random variable\n",
    "   # at regular intervals. eg: Calculated or time. \n",
    "# What can we get ?\n",
    "    # Skewness (Means>= median > mode)\n",
    "    # Type of distribution of the random variable\n",
    "    # Region of concentration\n",
    "    # Expected value\n",
    "plt.figure(figsize=(16, 7));\n",
    "plt.subplot(3, 2, 1);\n",
    "sns.histplot(wine_df['malic_acid'], fill=True, kde=True, cumulative=False, element='bars');\n",
    "plt.title(\"Distribution of malic acid.\", fontdict={'fontsize': 30});\n",
    "plt.ylabel(\"Number of Observations.\");"
   ]
  },
  {
   "cell_type": "code",
   "execution_count": 10,
   "id": "7f64deb9",
   "metadata": {},
   "outputs": [],
   "source": [
    "\n",
    "# np.sctypes;\n",
    "# np.info(np.float64);\n"
   ]
  },
  {
   "cell_type": "code",
   "execution_count": 11,
   "id": "399e41db",
   "metadata": {},
   "outputs": [],
   "source": [
    "dates = pd.date_range(start='1/1/2006', periods=wine_df['malic_acid'].count(), freq='y');\n",
    "dates;"
   ]
  },
  {
   "cell_type": "code",
   "execution_count": 12,
   "id": "5cdb66cb",
   "metadata": {
    "scrolled": true
   },
   "outputs": [
    {
     "data": {
      "image/png": "[encoded data removed]",
      "text/plain": [
       "<Figure size 1440x1440 with 1 Axes>"
      ]
     },
     "metadata": {
      "needs_background": "light"
     },
     "output_type": "display_data"
    }
   ],
   "source": [
    "plt.figure(figsize=(20, 20));\n",
    "plt.subplot(3, 2, 1);\n",
    "sns.histplot(wine_df['malic_acid'], label=\"malic acid\");\n",
    "plt.title(\"Distribution of malic_acid.\", fontdict={'fontsize': 30}, pad=10);\n",
    "#plt.annotate(\"cfcfc\", (2,3));\n",
    "plt.legend();\n",
    "#plt.xlabel(\"time/yr\", fontdict={'fontsize': 20});\n",
    "#plt.ylabel(\"malic acid/mg\", fontdict={'fontsize': 20});\n"
   ]
  },
  {
   "cell_type": "code",
   "execution_count": null,
   "id": "f252a20a",
   "metadata": {},
   "outputs": [],
   "source": []
  },
  {
   "cell_type": "markdown",
   "id": "80685208",
   "metadata": {},
   "source": [
    "## 4) Pie Chart: "
   ]
  },
  {
   "cell_type": "code",
   "execution_count": 13,
   "id": "da1c2e00",
   "metadata": {},
   "outputs": [
    {
     "data": {
      "image/png": "[encoded data removed]",
      "text/plain": [
       "<Figure size 432x288 with 1 Axes>"
      ]
     },
     "metadata": {},
     "output_type": "display_data"
    }
   ],
   "source": [
    "# Pie Charts:\n",
    "   # They are used to show proportions and percentages\n",
    "   # between categories in an observation by dividing a circle into \n",
    "   # proportional segments.\n",
    "plt.pie(x=frequency_table, labels=frequency_table.index, autopct=\"%i%%\", textprops={'color': 'white', 'size': 12, 'weight': 'normal'});"
   ]
  },
  {
   "cell_type": "code",
   "execution_count": 14,
   "id": "2c9d53f9",
   "metadata": {},
   "outputs": [],
   "source": [
    "# fig, ax = plt.subplots(nrows=3, ncols=2)"
   ]
  },
  {
   "cell_type": "code",
   "execution_count": null,
   "id": "ff6639dc",
   "metadata": {},
   "outputs": [],
   "source": []
  },
  {
   "cell_type": "markdown",
   "id": "ff1c12f7",
   "metadata": {},
   "source": [
    "## 5) Box Plot: "
   ]
  },
  {
   "cell_type": "code",
   "execution_count": 15,
   "id": "a80ad60b",
   "metadata": {},
   "outputs": [],
   "source": [
    "# Box plots:\n",
    "   # They are used to give a description of central tendency of data by displaying the median,\n",
    "   # and the measure of dispersion by displaying the quartiles.\n",
    "# What can we get ?\n",
    "    # - Skewness and Kutosity\n",
    "    # - Outliers detection\n",
    "    # - Measures of dispersion: (25, 50, 75)th Percentiles, Inter-Quatile Range, "
   ]
  },
  {
   "cell_type": "code",
   "execution_count": 37,
   "id": "60892af3",
   "metadata": {},
   "outputs": [
    {
     "data": {
      "image/png": "[encoded data removed]",
      "text/plain": [
       "<Figure size 1440x648 with 1 Axes>"
      ]
     },
     "metadata": {
      "needs_background": "light"
     },
     "output_type": "display_data"
    }
   ],
   "source": [
    "plt.figure(figsize=(20, 9));\n",
    "sns.boxplot(data=wine_df.iloc[:, :-3].drop(axis=1, columns=['magnesium']), orient='h', whis=1, );"
   ]
  },
  {
   "cell_type": "code",
   "execution_count": null,
   "id": "e5c65acd",
   "metadata": {},
   "outputs": [],
   "source": []
  }
 ],
 "metadata": {
  "kernelspec": {
   "display_name": "Python 3",
   "language": "python",
   "name": "python3"
  },
  "language_info": {
   "codemirror_mode": {
    "name": "ipython",
    "version": 3
   },
   "file_extension": ".py",
   "mimetype": "text/x-python",
   "name": "python",
   "nbconvert_exporter": "python",
   "pygments_lexer": "ipython3",
   "version": "3.8.8"
  },
  "toc": {
   "base_numbering": 1,
   "nav_menu": {},
   "number_sections": true,
   "sideBar": true,
   "skip_h1_title": false,
   "title_cell": "Table of Contents",
   "title_sidebar": "Contents",
   "toc_cell": false,
   "toc_position": {},
   "toc_section_display": true,
   "toc_window_display": true
  }
 },
 "nbformat": 4,
 "nbformat_minor": 5
}
