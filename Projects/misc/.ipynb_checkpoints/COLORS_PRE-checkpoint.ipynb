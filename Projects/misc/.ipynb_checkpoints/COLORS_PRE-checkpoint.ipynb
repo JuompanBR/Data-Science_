{
 "cells": [
  {
   "cell_type": "markdown",
   "metadata": {},
   "source": [
    "# Color Dataset; Play with."
   ]
  },
  {
   "cell_type": "code",
   "execution_count": null,
   "metadata": {},
   "outputs": [],
   "source": [
    "import numpy as np;\n",
    "import pandas as pd;\n",
    "import matplotlib.pyplot as plt;\n",
    "from sklearn.preprocessing import LabelEncoder;\n",
    "from sklearn.model_selection import KFold;\n",
    "\n",
    "#Algoritms\n",
    "#--Para:\n",
    "from sklearn.linear_model import LinearRegression;\n",
    "#--Non Para\n",
    "from sklearn.svm import SVR;\n",
    "from sklearn.tree import DecisionTreeRegressor;\n",
    "from sklearn.ensemble import RandomForestRegressor;\n",
    "from sklearn.naive_bayes import GaussianNB;\n"
   ]
  },
  {
   "cell_type": "code",
   "execution_count": null,
   "metadata": {},
   "outputs": [],
   "source": [
    "colors_df = pd.read_csv(\"colors.txt\");"
   ]
  },
  {
   "cell_type": "code",
   "execution_count": null,
   "metadata": {},
   "outputs": [],
   "source": [
    "colors_df"
   ]
  },
  {
   "cell_type": "code",
   "execution_count": null,
   "metadata": {},
   "outputs": [],
   "source": [
    "colors_df.drop(['color(_)'], axis='columns', inplace=True);\n",
    "colors_df.loc[:, ['r', 'g', 'b']].fillna(0, inplace=True);"
   ]
  },
  {
   "cell_type": "code",
   "execution_count": null,
   "metadata": {},
   "outputs": [],
   "source": [
    "colors = pd.get_dummies(colors_df.color, dtype=\"int8\");\n",
    "merged = pd.concat([colors, colors_df.loc[:, ['hex', 'r', 'g', 'b']]], axis=\"columns\");\n",
    "merged = merged.drop([\"hex\"], axis=\"columns\");"
   ]
  },
  {
   "cell_type": "code",
   "execution_count": null,
   "metadata": {},
   "outputs": [],
   "source": [
    "y = merged.drop(['r', 'g', 'b'], axis=\"columns\");\n",
    "x = merged.loc[:, ['r', 'g', 'b']];"
   ]
  },
  {
   "cell_type": "code",
   "execution_count": null,
   "metadata": {},
   "outputs": [],
   "source": [
    "kf = KFold(n_splits=45, shuffle=True);"
   ]
  },
  {
   "cell_type": "code",
   "execution_count": null,
   "metadata": {},
   "outputs": [],
   "source": [
    "\"\"\"#Para\n",
    "Lin_reg = LinearRegression();\n",
    "#Non-Para\n",
    "SuVR = SVR();\n",
    "DTR = DecisionTreeRegressor();\n",
    "RFR = RandomForestRegressor(n_estimators=5);\n",
    "NB = GaussianNB();\"\"\";"
   ]
  },
  {
   "cell_type": "code",
   "execution_count": null,
   "metadata": {},
   "outputs": [],
   "source": [
    "\"\"\"#Para\n",
    "Lin_reg_ = [];\n",
    "#Non-Para\n",
    "\n",
    "DTR_ = [];\n",
    "RFR_ = [];\n",
    "\n",
    "\n",
    "\n",
    "for train_index, test_index in kf.split(x, y):\n",
    "    x_train, x_test, y_train, y_test = x.iloc[train_index, :], x.iloc[test_index, :], y.iloc[train_index, :], y.iloc[test_index, :];\n",
    "    \n",
    "    Lin_reg_.append(get_accuracy(Lin_reg, x_train, x_test, y_train, y_test));\n",
    "    \n",
    "    #SuVR_.append(get_accuracy(SuVR, x_train, x_test, y_train, y_test));\n",
    "    DTR_.append(get_accuracy(DTR, x_train, x_test, y_train, y_test));\n",
    "    RFR_.append(get_accuracy(RFR, x_train, x_test, y_train, y_test));\"\"\";"
   ]
  },
  {
   "cell_type": "code",
   "execution_count": null,
   "metadata": {},
   "outputs": [],
   "source": [
    "print(np.array(Lin_reg_).mean(), np.array(DTR_).mean(), np.array(RFR_).mean())"
   ]
  },
  {
   "cell_type": "code",
   "execution_count": null,
   "metadata": {},
   "outputs": [],
   "source": []
  },
  {
   "cell_type": "code",
   "execution_count": null,
   "metadata": {},
   "outputs": [],
   "source": [
    "import pickle;\n",
    "with open(\"colors_model.pkl\", \"rb\") as f:\n",
    "    DTR = pickle.load(f);"
   ]
  },
  {
   "cell_type": "code",
   "execution_count": null,
   "metadata": {},
   "outputs": [],
   "source": [
    "def get_accuracy(model, x_train, x_test, y_train, y_test):\n",
    "    model.fit(x_train, y_train);\n",
    "    return model.score(x_test, y_test);"
   ]
  },
  {
   "cell_type": "code",
   "execution_count": null,
   "metadata": {},
   "outputs": [],
   "source": [
    "def getColorName(rgb):\n",
    "    prediction = DTR.predict([[rgb[0], rgb[1], rgb[2]]]);\n",
    "    index = np.where(prediction[0] >= 0.5);#Get column index where 1 from prediction\n",
    "    index = index[0][0];\n",
    "    return y.iloc[:, index].name; "
   ]
  },
  {
   "cell_type": "code",
   "execution_count": null,
   "metadata": {},
   "outputs": [],
   "source": [
    "getColorName((154, 145, 41));"
   ]
  },
  {
   "cell_type": "code",
   "execution_count": null,
   "metadata": {},
   "outputs": [],
   "source": [
    "import PIL"
   ]
  },
  {
   "cell_type": "code",
   "execution_count": null,
   "metadata": {},
   "outputs": [],
   "source": [
    "image = PIL.Image.open(\"test.png\");\n",
    "image_rgb = image.convert(\"RGB\");\n",
    "rgb = image_rgb.getpixel((40,96));"
   ]
  },
  {
   "cell_type": "code",
   "execution_count": null,
   "metadata": {},
   "outputs": [],
   "source": [
    "getColorName(rgb)"
   ]
  }
 ],
 "metadata": {
  "kernelspec": {
   "display_name": "Python 3",
   "language": "python",
   "name": "python3"
  },
  "language_info": {
   "codemirror_mode": {
    "name": "ipython",
    "version": 3
   },
   "file_extension": ".py",
   "mimetype": "text/x-python",
   "name": "python",
   "nbconvert_exporter": "python",
   "pygments_lexer": "ipython3",
   "version": "3.7.3"
  }
 },
 "nbformat": 4,
 "nbformat_minor": 2
}
